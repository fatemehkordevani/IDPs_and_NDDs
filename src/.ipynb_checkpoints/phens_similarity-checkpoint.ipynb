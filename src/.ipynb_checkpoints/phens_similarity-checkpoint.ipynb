{
 "cells": [
  {
   "cell_type": "code",
   "execution_count": 1,
   "id": "d1fe04aa-ccdf-45f9-af40-efa799319988",
   "metadata": {},
   "outputs": [],
   "source": [
    "# this is to analyze proteins of Human, Brain and NDD phenotypes creating arrays of intersection and unition of these.\n",
    "import numpy as np\n",
    "import pandas as pd\n",
    "import config as cfg\n",
    "import brain as brn\n",
    "import dataframe_image as dfi\n",
    "import seaborn as sns\n",
    "\n",
    "def phens_acc_dict_maker(phen_lst, phens_df):  # TODO: later try to use these two methods inside eachother\n",
    "    phen_dict = dict.fromkeys(phen_lst)  # this dict has phen_name as key and lst of corresponding ACCs as values\n",
    "    for each_phen in phen_lst:\n",
    "        tmp_lst = list(set(phens_df.loc[phens_df['Phenotype'] == each_phen, 'acc'].tolist()))\n",
    "        phen_dict[each_phen] = tmp_lst\n",
    "    return phen_dict\n",
    "\n",
    "\n",
    "def human_brain_acc_adder(phens_dict):\n",
    "    ## Mobidb downloaded on Aug 8th 2022, 78,106 entries (but 77629 prs after filtering for disorder consensus)\n",
    "    mobidb = pd.read_csv(cfg.data['clin'] + '/mobidb_result_2022-08-08T13_12_39.379Z.tsv', sep='\\t', usecols=['acc'])\n",
    "    human_lst = list(set(mobidb['acc'].tolist()))\n",
    "    brain_lst = brn.brain_pr_lst_generator()\n",
    "    phens_dict['Human'] = human_lst\n",
    "    phens_dict['Brain'] = brain_lst\n",
    "    return phens_dict\n",
    "\n",
    "\n",
    "def phens_intersect_df_maker(phen_acc_dic):\n",
    "    # gets dictionary with phen as key and their uniprot IDs as values,\n",
    "    intersection_df = pd.DataFrame(index=phen_acc_dic.keys(), columns=phen_acc_dic.keys())\n",
    "    for key1 in phens_acc_dict.keys():\n",
    "        intersection_count_lst = []\n",
    "        for key2 in phens_acc_dict.keys():\n",
    "            count_tmp = len(list(set(phens_acc_dict[key1]) & set(phens_acc_dict[key2])))\n",
    "            intersection_count_lst.append(count_tmp)\n",
    "        intersection_df[key1] = intersection_count_lst\n",
    "    return intersection_df\n",
    "\n",
    "\n",
    "def phens_union_df_maker(phen_acc_dic):\n",
    "    union_df = pd.DataFrame(index=phen_acc_dic.keys(), columns=phen_acc_dic.keys())\n",
    "    for key1 in phens_acc_dict.keys():\n",
    "        union_count_lst = []\n",
    "        for key2 in phens_acc_dict.keys():\n",
    "            count_tmp = len(list(set(phens_acc_dict[key1]) | set(phens_acc_dict[key2])))\n",
    "            union_count_lst.append(count_tmp)\n",
    "        union_df[key1] = union_count_lst\n",
    "    return union_df"
   ]
  },
  {
   "cell_type": "code",
   "execution_count": null,
   "id": "0aa7ed28-c0dd-41a5-9e6a-49c2a6217a12",
   "metadata": {},
   "outputs": [],
   "source": []
  }
 ],
 "metadata": {
  "kernelspec": {
   "display_name": "Python 3 (ipykernel)",
   "language": "python",
   "name": "python3"
  },
  "language_info": {
   "codemirror_mode": {
    "name": "ipython",
    "version": 3
   },
   "file_extension": ".py",
   "mimetype": "text/x-python",
   "name": "python",
   "nbconvert_exporter": "python",
   "pygments_lexer": "ipython3",
   "version": "3.10.4"
  }
 },
 "nbformat": 4,
 "nbformat_minor": 5
}
