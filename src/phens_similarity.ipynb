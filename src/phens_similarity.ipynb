{
 "cells": [
  {
   "cell_type": "code",
   "execution_count": 1,
   "id": "d1fe04aa-ccdf-45f9-af40-efa799319988",
   "metadata": {
    "pycharm": {
     "name": "#%%\n"
    }
   },
   "outputs": [],
   "source": [
    "# this is to analyze proteins of Human, Brain and NDD phenotypes creating arrays of intersection and unition of these.\n",
    "import numpy as np\n",
    "import pandas as pd\n",
    "import config as cfg\n",
    "import brain as brn\n",
    "import dataframe_image as dfi\n",
    "import seaborn as sns\n",
    "\n",
    "def phens_acc_dict_maker(phen_lst, phens_df):  # TODO: later try to use these two methods inside eachother\n",
    "    phen_dict = dict.fromkeys(phen_lst)  # this dict has phen_name as key and lst of corresponding ACCs as values\n",
    "    for each_phen in phen_lst:\n",
    "        tmp_lst = list(set(phens_df.loc[phens_df['phenotype'] == each_phen, 'acc'].tolist()))\n",
    "        phen_dict[each_phen] = tmp_lst\n",
    "    return phen_dict\n",
    "\n",
    "\n",
    "def human_brain_acc_adder(phens_dict):\n",
    "    ## Mobidb downloaded on Aug 8th 2022, 78,106 entries (but 77629 prs after filtering for disorder consensus)\n",
    "    mobidb = pd.read_csv(cfg.data['clin'] + '/mobidb_result_2022-08-08T13_12_39.379Z.tsv', sep='\\t', usecols=['acc', 'feature'])\n",
    "    mobidb = mobidb.loc[mobidb['feature'] == 'prediction-disorder-th_50']\n",
    "    human_lst = list(set(mobidb['acc'].tolist()))\n",
    "    brain_lst = brn.brain_pr_lst_generator()\n",
    "    brain_lst = list(set(brain_lst) & set(human_lst))\n",
    "    phens_dict['Human'] = human_lst\n",
    "    phens_dict['Brain'] = brain_lst\n",
    "    return phens_dict\n",
    "\n",
    "\n",
    "def phens_intersect_df_maker(phen_acc_dic):\n",
    "    # gets dictionary with phen as key and their uniprot IDs as values,\n",
    "    intersection_df = pd.DataFrame(index=phen_acc_dic.keys(), columns=phen_acc_dic.keys())\n",
    "    for key1 in phens_acc_dict.keys():\n",
    "        intersection_count_lst = []\n",
    "        for key2 in phens_acc_dict.keys():\n",
    "            count_tmp = len(list(set(phens_acc_dict[key1]) & set(phens_acc_dict[key2])))\n",
    "            intersection_count_lst.append(count_tmp)\n",
    "        intersection_df[key1] = intersection_count_lst\n",
    "    return intersection_df\n",
    "\n",
    "\n",
    "def phens_union_df_maker(phen_acc_dic):\n",
    "    union_df = pd.DataFrame(index=phen_acc_dic.keys(), columns=phen_acc_dic.keys())\n",
    "    for key1 in phens_acc_dict.keys():\n",
    "        union_count_lst = []\n",
    "        for key2 in phens_acc_dict.keys():\n",
    "            count_tmp = len(list(set(phens_acc_dict[key1]) | set(phens_acc_dict[key2])))\n",
    "            union_count_lst.append(count_tmp)\n",
    "        union_df[key1] = union_count_lst\n",
    "    return union_df"
   ]
  },
  {
   "cell_type": "code",
   "execution_count": 3,
   "id": "3e20676b-3752-4dc0-9ea7-acf478143d09",
   "metadata": {
    "pycharm": {
     "name": "#%%\n"
    }
   },
   "outputs": [
    {
     "name": "stderr",
     "output_type": "stream",
     "text": [
      "/home/fatemeh/PycharmProjects/IDPs_and_NDDs/src/brain.py:23: FutureWarning: The error_bad_lines argument has been deprecated and will be removed in a future version. Use on_bad_lines in the future.\n",
      "\n",
      "\n",
      "  brain_df = pd.read_table(cfg.data['brain'] + '/proteinatlas.tsv', error_bad_lines=False, sep='\\t')\n",
      "/home/fatemeh/PycharmProjects/IDPs_and_NDDs/src/brain.py:28: FutureWarning: The error_bad_lines argument has been deprecated and will be removed in a future version. Use on_bad_lines in the future.\n",
      "\n",
      "\n",
      "  normal_tissue_df = pd.read_table(cfg.data['brain'] + '/normal_tissue.tsv', error_bad_lines=False, sep='\\t')\n",
      "/home/fatemeh/PycharmProjects/IDPs_and_NDDs/src/brain.py:37: FutureWarning: The frame.append method is deprecated and will be removed from pandas in a future version. Use pandas.concat instead.\n",
      "  brain_filtered_df = brain_filtered_df.append(df_temp)  # (161558, 6)\n",
      "/home/fatemeh/PycharmProjects/IDPs_and_NDDs/src/brain.py:37: FutureWarning: The frame.append method is deprecated and will be removed from pandas in a future version. Use pandas.concat instead.\n",
      "  brain_filtered_df = brain_filtered_df.append(df_temp)  # (161558, 6)\n",
      "/home/fatemeh/PycharmProjects/IDPs_and_NDDs/src/brain.py:37: FutureWarning: The frame.append method is deprecated and will be removed from pandas in a future version. Use pandas.concat instead.\n",
      "  brain_filtered_df = brain_filtered_df.append(df_temp)  # (161558, 6)\n",
      "/home/fatemeh/PycharmProjects/IDPs_and_NDDs/src/brain.py:37: FutureWarning: The frame.append method is deprecated and will be removed from pandas in a future version. Use pandas.concat instead.\n",
      "  brain_filtered_df = brain_filtered_df.append(df_temp)  # (161558, 6)\n",
      "/home/fatemeh/PycharmProjects/IDPs_and_NDDs/src/brain.py:37: FutureWarning: The frame.append method is deprecated and will be removed from pandas in a future version. Use pandas.concat instead.\n",
      "  brain_filtered_df = brain_filtered_df.append(df_temp)  # (161558, 6)\n",
      "/home/fatemeh/PycharmProjects/IDPs_and_NDDs/src/brain.py:37: FutureWarning: The frame.append method is deprecated and will be removed from pandas in a future version. Use pandas.concat instead.\n",
      "  brain_filtered_df = brain_filtered_df.append(df_temp)  # (161558, 6)\n",
      "/home/fatemeh/PycharmProjects/IDPs_and_NDDs/src/brain.py:37: FutureWarning: The frame.append method is deprecated and will be removed from pandas in a future version. Use pandas.concat instead.\n",
      "  brain_filtered_df = brain_filtered_df.append(df_temp)  # (161558, 6)\n",
      "/home/fatemeh/PycharmProjects/IDPs_and_NDDs/src/brain.py:37: FutureWarning: The frame.append method is deprecated and will be removed from pandas in a future version. Use pandas.concat instead.\n",
      "  brain_filtered_df = brain_filtered_df.append(df_temp)  # (161558, 6)\n",
      "/home/fatemeh/PycharmProjects/IDPs_and_NDDs/src/brain.py:44: UserWarning: Boolean Series key will be reindexed to match DataFrame index.\n",
      "  brain_filtered_df1 = brain_filtered_df1[(brain_filtered_df['Reliability'] == 'Approved') |\n",
      "[0926/101355.928696:WARNING:sandbox_linux.cc(376)] InitializeSandbox() called with multiple threads in process gpu-process.\n",
      "[0926/101355.974417:WARNING:bluez_dbus_manager.cc(247)] Floss manager not present, cannot set Floss enable/disable.\n",
      "[0926/101356.219059:INFO:headless_shell.cc(660)] Written to file /tmp/tmp142iqmy1/temp.png.\n",
      "/tmp/ipykernel_6117/1060830424.py:11: FutureWarning: this method is deprecated in favour of `Styler.format(precision=..)`\n",
      "  table_similarity = (phens_inters_df *100 / phens_union_df).style.background_gradient(cmap=cm).set_precision(2)\n",
      "/home/fatemeh/PycharmProjects/IDPs_and_NDDs/src/venv/lib/python3.10/site-packages/dataframe_image/_pandas_accessor.py:69: FutureWarning: this method is deprecated in favour of `Styler.to_html()`\n",
      "  html = '<div>' + obj.render() + '</div>'\n",
      "[0926/101356.661920:WARNING:sandbox_linux.cc(376)] InitializeSandbox() called with multiple threads in process gpu-process.\n",
      "[0926/101356.717012:WARNING:bluez_dbus_manager.cc(247)] Floss manager not present, cannot set Floss enable/disable.\n",
      "[0926/101356.953544:INFO:headless_shell.cc(660)] Written to file /tmp/tmpr2k3l1df/temp.png.\n"
     ]
    }
   ],
   "source": [
    "phens_lst = ['Human', 'Brain', 'ASD', 'Ep', 'ID', 'ADHD', 'Cancer', 'SCZ', 'T2D']\n",
    "phens_subdf = pd.read_csv(cfg.data['hc'] + '/smaller-hc-with-phens-column')\n",
    "# Dictionary with phen as key and their corresponding  list of ACCs as value\n",
    "phens_acc_dict = human_brain_acc_adder(phens_acc_dict_maker(phens_lst, phens_subdf))\n",
    "phens_inters_df = phens_intersect_df_maker(phens_acc_dict)  \n",
    "phens_union_df = phens_union_df_maker(phens_acc_dict)\n",
    "## in_idr_vars similarity \n",
    "cm = sns.light_palette(\"green\", as_cmap=True)\n",
    "\n",
    "dfi.export(phens_inters_df, 'new-intersection.png')\n",
    "table_similarity = (phens_inters_df *100 / phens_union_df).style.background_gradient(cmap=cm).set_precision(2)\n",
    "dfi.export(table_similarity, 'new-similarity.png')\n"
   ]
  },
  {
   "cell_type": "code",
   "execution_count": 4,
   "id": "0aa7ed28-c0dd-41a5-9e6a-49c2a6217a12",
   "metadata": {
    "pycharm": {
     "name": "#%%\n"
    }
   },
   "outputs": [
    {
     "name": "stderr",
     "output_type": "stream",
     "text": [
      "/home/fatemeh/PycharmProjects/IDPs_and_NDDs/src/brain.py:23: FutureWarning: The error_bad_lines argument has been deprecated and will be removed in a future version. Use on_bad_lines in the future.\n",
      "\n",
      "\n",
      "  brain_df = pd.read_table(cfg.data['brain'] + '/proteinatlas.tsv', error_bad_lines=False, sep='\\t')\n",
      "/home/fatemeh/PycharmProjects/IDPs_and_NDDs/src/brain.py:28: FutureWarning: The error_bad_lines argument has been deprecated and will be removed in a future version. Use on_bad_lines in the future.\n",
      "\n",
      "\n",
      "  normal_tissue_df = pd.read_table(cfg.data['brain'] + '/normal_tissue.tsv', error_bad_lines=False, sep='\\t')\n",
      "/home/fatemeh/PycharmProjects/IDPs_and_NDDs/src/brain.py:37: FutureWarning: The frame.append method is deprecated and will be removed from pandas in a future version. Use pandas.concat instead.\n",
      "  brain_filtered_df = brain_filtered_df.append(df_temp)  # (161558, 6)\n",
      "/home/fatemeh/PycharmProjects/IDPs_and_NDDs/src/brain.py:37: FutureWarning: The frame.append method is deprecated and will be removed from pandas in a future version. Use pandas.concat instead.\n",
      "  brain_filtered_df = brain_filtered_df.append(df_temp)  # (161558, 6)\n",
      "/home/fatemeh/PycharmProjects/IDPs_and_NDDs/src/brain.py:37: FutureWarning: The frame.append method is deprecated and will be removed from pandas in a future version. Use pandas.concat instead.\n",
      "  brain_filtered_df = brain_filtered_df.append(df_temp)  # (161558, 6)\n",
      "/home/fatemeh/PycharmProjects/IDPs_and_NDDs/src/brain.py:37: FutureWarning: The frame.append method is deprecated and will be removed from pandas in a future version. Use pandas.concat instead.\n",
      "  brain_filtered_df = brain_filtered_df.append(df_temp)  # (161558, 6)\n",
      "/home/fatemeh/PycharmProjects/IDPs_and_NDDs/src/brain.py:37: FutureWarning: The frame.append method is deprecated and will be removed from pandas in a future version. Use pandas.concat instead.\n",
      "  brain_filtered_df = brain_filtered_df.append(df_temp)  # (161558, 6)\n",
      "/home/fatemeh/PycharmProjects/IDPs_and_NDDs/src/brain.py:37: FutureWarning: The frame.append method is deprecated and will be removed from pandas in a future version. Use pandas.concat instead.\n",
      "  brain_filtered_df = brain_filtered_df.append(df_temp)  # (161558, 6)\n",
      "/home/fatemeh/PycharmProjects/IDPs_and_NDDs/src/brain.py:37: FutureWarning: The frame.append method is deprecated and will be removed from pandas in a future version. Use pandas.concat instead.\n",
      "  brain_filtered_df = brain_filtered_df.append(df_temp)  # (161558, 6)\n",
      "/home/fatemeh/PycharmProjects/IDPs_and_NDDs/src/brain.py:37: FutureWarning: The frame.append method is deprecated and will be removed from pandas in a future version. Use pandas.concat instead.\n",
      "  brain_filtered_df = brain_filtered_df.append(df_temp)  # (161558, 6)\n",
      "/home/fatemeh/PycharmProjects/IDPs_and_NDDs/src/brain.py:44: UserWarning: Boolean Series key will be reindexed to match DataFrame index.\n",
      "  brain_filtered_df1 = brain_filtered_df1[(brain_filtered_df['Reliability'] == 'Approved') |\n",
      "/tmp/ipykernel_6117/1480570663.py:12: FutureWarning: this method is deprecated in favour of `Styler.format(precision=..)`\n",
      "  table_in_idr = (phens_inters_df *100 / phens_union_df).style.background_gradient(cmap=cm).set_precision(2)\n",
      "/home/fatemeh/PycharmProjects/IDPs_and_NDDs/src/venv/lib/python3.10/site-packages/dataframe_image/_pandas_accessor.py:69: FutureWarning: this method is deprecated in favour of `Styler.to_html()`\n",
      "  html = '<div>' + obj.render() + '</div>'\n",
      "[0926/101406.240687:WARNING:sandbox_linux.cc(376)] InitializeSandbox() called with multiple threads in process gpu-process.\n",
      "[0926/101406.309139:WARNING:bluez_dbus_manager.cc(247)] Floss manager not present, cannot set Floss enable/disable.\n",
      "[0926/101406.512150:INFO:headless_shell.cc(660)] Written to file /tmp/tmpcuyqc41g/temp.png.\n"
     ]
    }
   ],
   "source": [
    "## old\n",
    "phens_lst = ['Human', 'Brain', 'ASD', 'ID', 'Ep', 'Cancer']\n",
    "clin_mobidb_ndd = pd.read_csv(cfg.data['clin'] + '/vars-in_and_out_idr-checked-by-mobidb.csv')\n",
    "in_idr_vars = clin_mobidb_ndd.loc[clin_mobidb_ndd['isin_idr'] == 1]\n",
    "# Dictionary with phen as key and their corresponding  list of ACCs as value\n",
    "phens_acc_dict = human_brain_acc_adder(phens_acc_dict_maker(phens_lst, in_idr_vars))\n",
    "phens_inters_df = phens_intersect_df_maker(phens_acc_dict)  \n",
    "phens_union_df = phens_union_df_maker(phens_acc_dict)\n",
    "## in_idr_vars similarity \n",
    "cm = sns.light_palette(\"green\", as_cmap=True)\n",
    "# Overlap (Jaccard index)\n",
    "table_in_idr = (phens_inters_df *100 / phens_union_df).style.background_gradient(cmap=cm).set_precision(2)\n",
    "dfi.export(table_in_idr, 'similarity-IDR-vars.png')"
   ]
  },
  {
   "cell_type": "code",
   "execution_count": 5,
   "id": "eaa87e76-ae61-4bc3-9557-58d2974a36ea",
   "metadata": {
    "pycharm": {
     "name": "#%%\n"
    }
   },
   "outputs": [
    {
     "name": "stderr",
     "output_type": "stream",
     "text": [
      "/home/fatemeh/PycharmProjects/IDPs_and_NDDs/src/brain.py:23: FutureWarning: The error_bad_lines argument has been deprecated and will be removed in a future version. Use on_bad_lines in the future.\n",
      "\n",
      "\n",
      "  brain_df = pd.read_table(cfg.data['brain'] + '/proteinatlas.tsv', error_bad_lines=False, sep='\\t')\n",
      "/home/fatemeh/PycharmProjects/IDPs_and_NDDs/src/brain.py:28: FutureWarning: The error_bad_lines argument has been deprecated and will be removed in a future version. Use on_bad_lines in the future.\n",
      "\n",
      "\n",
      "  normal_tissue_df = pd.read_table(cfg.data['brain'] + '/normal_tissue.tsv', error_bad_lines=False, sep='\\t')\n",
      "/home/fatemeh/PycharmProjects/IDPs_and_NDDs/src/brain.py:37: FutureWarning: The frame.append method is deprecated and will be removed from pandas in a future version. Use pandas.concat instead.\n",
      "  brain_filtered_df = brain_filtered_df.append(df_temp)  # (161558, 6)\n",
      "/home/fatemeh/PycharmProjects/IDPs_and_NDDs/src/brain.py:37: FutureWarning: The frame.append method is deprecated and will be removed from pandas in a future version. Use pandas.concat instead.\n",
      "  brain_filtered_df = brain_filtered_df.append(df_temp)  # (161558, 6)\n",
      "/home/fatemeh/PycharmProjects/IDPs_and_NDDs/src/brain.py:37: FutureWarning: The frame.append method is deprecated and will be removed from pandas in a future version. Use pandas.concat instead.\n",
      "  brain_filtered_df = brain_filtered_df.append(df_temp)  # (161558, 6)\n",
      "/home/fatemeh/PycharmProjects/IDPs_and_NDDs/src/brain.py:37: FutureWarning: The frame.append method is deprecated and will be removed from pandas in a future version. Use pandas.concat instead.\n",
      "  brain_filtered_df = brain_filtered_df.append(df_temp)  # (161558, 6)\n",
      "/home/fatemeh/PycharmProjects/IDPs_and_NDDs/src/brain.py:37: FutureWarning: The frame.append method is deprecated and will be removed from pandas in a future version. Use pandas.concat instead.\n",
      "  brain_filtered_df = brain_filtered_df.append(df_temp)  # (161558, 6)\n",
      "/home/fatemeh/PycharmProjects/IDPs_and_NDDs/src/brain.py:37: FutureWarning: The frame.append method is deprecated and will be removed from pandas in a future version. Use pandas.concat instead.\n",
      "  brain_filtered_df = brain_filtered_df.append(df_temp)  # (161558, 6)\n",
      "/home/fatemeh/PycharmProjects/IDPs_and_NDDs/src/brain.py:37: FutureWarning: The frame.append method is deprecated and will be removed from pandas in a future version. Use pandas.concat instead.\n",
      "  brain_filtered_df = brain_filtered_df.append(df_temp)  # (161558, 6)\n",
      "/home/fatemeh/PycharmProjects/IDPs_and_NDDs/src/brain.py:37: FutureWarning: The frame.append method is deprecated and will be removed from pandas in a future version. Use pandas.concat instead.\n",
      "  brain_filtered_df = brain_filtered_df.append(df_temp)  # (161558, 6)\n",
      "/home/fatemeh/PycharmProjects/IDPs_and_NDDs/src/brain.py:44: UserWarning: Boolean Series key will be reindexed to match DataFrame index.\n",
      "  brain_filtered_df1 = brain_filtered_df1[(brain_filtered_df['Reliability'] == 'Approved') |\n",
      "/tmp/ipykernel_6117/1196428411.py:12: FutureWarning: this method is deprecated in favour of `Styler.format(precision=..)`\n",
      "  table_out_idr = (phens_inters_df *100 / phens_union_df).style.background_gradient(cmap=cm).set_precision(2)\n",
      "/home/fatemeh/PycharmProjects/IDPs_and_NDDs/src/venv/lib/python3.10/site-packages/dataframe_image/_pandas_accessor.py:69: FutureWarning: this method is deprecated in favour of `Styler.to_html()`\n",
      "  html = '<div>' + obj.render() + '</div>'\n",
      "[0926/101414.318470:WARNING:sandbox_linux.cc(376)] InitializeSandbox() called with multiple threads in process gpu-process.\n",
      "[0926/101414.351635:WARNING:bluez_dbus_manager.cc(247)] Floss manager not present, cannot set Floss enable/disable.\n",
      "[0926/101414.559953:INFO:headless_shell.cc(660)] Written to file /tmp/tmpd858tvgc/temp.png.\n"
     ]
    }
   ],
   "source": [
    "## old\n",
    "phens_lst = ['Human', 'Brain', 'ASD', 'ID', 'Ep', 'Cancer']\n",
    "clin_mobidb_ndd = pd.read_csv(cfg.data['clin'] + '/vars-in_and_out_idr-checked-by-mobidb.csv')\n",
    "out_idr_vars = clin_mobidb_ndd.loc[clin_mobidb_ndd['isin_idr'] == 0]\n",
    "# Dictionary with phen as key and their corresponding  list of ACCs as value\n",
    "phens_acc_dict = human_brain_acc_adder(phens_acc_dict_maker(phens_lst, out_idr_vars))\n",
    "phens_inters_df = phens_intersect_df_maker(phens_acc_dict)  \n",
    "phens_union_df = phens_union_df_maker(phens_acc_dict)\n",
    "## out_idr_vars similarity \n",
    "cm = sns.light_palette(\"green\", as_cmap=True)\n",
    "# Overlap (Jaccard index)\n",
    "table_out_idr = (phens_inters_df *100 / phens_union_df).style.background_gradient(cmap=cm).set_precision(2)\n",
    "dfi.export(table_out_idr, 'similarity-OR-vars.png')"
   ]
  },
  {
   "cell_type": "code",
   "execution_count": 9,
   "id": "75109ac2-ed4e-435e-a60c-f25b4191684b",
   "metadata": {
    "pycharm": {
     "name": "#%%\n"
    },
    "tags": []
   },
   "outputs": [
    {
     "name": "stderr",
     "output_type": "stream",
     "text": [
      "/home/fatemeh/PycharmProjects/IDPs_and_NDDs/src/brain.py:23: FutureWarning: The error_bad_lines argument has been deprecated and will be removed in a future version. Use on_bad_lines in the future.\n",
      "\n",
      "\n",
      "  brain_df = pd.read_table(cfg.data['brain'] + '/proteinatlas.tsv', error_bad_lines=False, sep='\\t')\n",
      "/home/fatemeh/PycharmProjects/IDPs_and_NDDs/src/brain.py:28: FutureWarning: The error_bad_lines argument has been deprecated and will be removed in a future version. Use on_bad_lines in the future.\n",
      "\n",
      "\n",
      "  normal_tissue_df = pd.read_table(cfg.data['brain'] + '/normal_tissue.tsv', error_bad_lines=False, sep='\\t')\n",
      "/home/fatemeh/PycharmProjects/IDPs_and_NDDs/src/brain.py:37: FutureWarning: The frame.append method is deprecated and will be removed from pandas in a future version. Use pandas.concat instead.\n",
      "  brain_filtered_df = brain_filtered_df.append(df_temp)  # (161558, 6)\n",
      "/home/fatemeh/PycharmProjects/IDPs_and_NDDs/src/brain.py:37: FutureWarning: The frame.append method is deprecated and will be removed from pandas in a future version. Use pandas.concat instead.\n",
      "  brain_filtered_df = brain_filtered_df.append(df_temp)  # (161558, 6)\n",
      "/home/fatemeh/PycharmProjects/IDPs_and_NDDs/src/brain.py:37: FutureWarning: The frame.append method is deprecated and will be removed from pandas in a future version. Use pandas.concat instead.\n",
      "  brain_filtered_df = brain_filtered_df.append(df_temp)  # (161558, 6)\n",
      "/home/fatemeh/PycharmProjects/IDPs_and_NDDs/src/brain.py:37: FutureWarning: The frame.append method is deprecated and will be removed from pandas in a future version. Use pandas.concat instead.\n",
      "  brain_filtered_df = brain_filtered_df.append(df_temp)  # (161558, 6)\n",
      "/home/fatemeh/PycharmProjects/IDPs_and_NDDs/src/brain.py:37: FutureWarning: The frame.append method is deprecated and will be removed from pandas in a future version. Use pandas.concat instead.\n",
      "  brain_filtered_df = brain_filtered_df.append(df_temp)  # (161558, 6)\n",
      "/home/fatemeh/PycharmProjects/IDPs_and_NDDs/src/brain.py:37: FutureWarning: The frame.append method is deprecated and will be removed from pandas in a future version. Use pandas.concat instead.\n",
      "  brain_filtered_df = brain_filtered_df.append(df_temp)  # (161558, 6)\n",
      "/home/fatemeh/PycharmProjects/IDPs_and_NDDs/src/brain.py:37: FutureWarning: The frame.append method is deprecated and will be removed from pandas in a future version. Use pandas.concat instead.\n",
      "  brain_filtered_df = brain_filtered_df.append(df_temp)  # (161558, 6)\n",
      "/home/fatemeh/PycharmProjects/IDPs_and_NDDs/src/brain.py:37: FutureWarning: The frame.append method is deprecated and will be removed from pandas in a future version. Use pandas.concat instead.\n",
      "  brain_filtered_df = brain_filtered_df.append(df_temp)  # (161558, 6)\n",
      "/home/fatemeh/PycharmProjects/IDPs_and_NDDs/src/brain.py:44: UserWarning: Boolean Series key will be reindexed to match DataFrame index.\n",
      "  brain_filtered_df1 = brain_filtered_df1[(brain_filtered_df['Reliability'] == 'Approved') |\n",
      "/tmp/ipykernel_6117/368729049.py:11: FutureWarning: this method is deprecated in favour of `Styler.format(precision=..)`\n",
      "  all_vars_table = (phens_inters_df *100 / phens_union_df).style.background_gradient(cmap=cm).set_precision(2)\n",
      "/home/fatemeh/PycharmProjects/IDPs_and_NDDs/src/venv/lib/python3.10/site-packages/dataframe_image/_pandas_accessor.py:69: FutureWarning: this method is deprecated in favour of `Styler.to_html()`\n",
      "  html = '<div>' + obj.render() + '</div>'\n",
      "[0926/101706.154465:WARNING:sandbox_linux.cc(376)] InitializeSandbox() called with multiple threads in process gpu-process.\n",
      "[0926/101706.200172:WARNING:bluez_dbus_manager.cc(247)] Floss manager not present, cannot set Floss enable/disable.\n",
      "[0926/101706.443329:INFO:headless_shell.cc(660)] Written to file /tmp/tmpn577c7g5/temp.png.\n"
     ]
    }
   ],
   "source": [
    "## old\n",
    "phens_lst = ['Human', 'Brain', 'ASD', 'Ep', 'ID', 'ADHD', 'Cancer']\n",
    "clin_mobidb_ndd = pd.read_csv(cfg.data['clin'] + '/vars-in_and_out_idr-checked-by-mobidb.csv')\n",
    "# Dictionary with phen as key and their corresponding  list of ACCs as value\n",
    "phens_acc_dict = human_brain_acc_adder(phens_acc_dict_maker(phens_lst, clin_mobidb_ndd))\n",
    "phens_inters_df = phens_intersect_df_maker(phens_acc_dict)  \n",
    "phens_union_df = phens_union_df_maker(phens_acc_dict)\n",
    "## all_vars similarity \n",
    "cm = sns.light_palette(\"green\", as_cmap=True)\n",
    "# Overlap (Jaccard index)\n",
    "all_vars_table = (phens_inters_df *100 / phens_union_df).style.background_gradient(cmap=cm).set_precision(2)\n",
    "dfi.export(all_vars_table, 'similarity-all-vars.png')"
   ]
  },
  {
   "cell_type": "code",
   "execution_count": 10,
   "id": "b38a11c7-9fee-4df5-8f8a-d83143ff7fdd",
   "metadata": {
    "pycharm": {
     "name": "#%%\n"
    },
    "tags": []
   },
   "outputs": [],
   "source": [
    "#TODO do comparison between in idr and out idr based on var IDs "
   ]
  },
  {
   "cell_type": "code",
   "execution_count": 11,
   "id": "91ef2bef-c734-4868-a516-282801e25489",
   "metadata": {
    "pycharm": {
     "name": "#%%\n"
    }
   },
   "outputs": [
    {
     "name": "stderr",
     "output_type": "stream",
     "text": [
      "/tmp/ipykernel_6117/2732752527.py:1: FutureWarning: this method is deprecated in favour of `Styler.format(precision=..)`\n",
      "  intersect_t = phens_intersect_df_maker(phens_acc_dict).style.background_gradient(cmap=cm).set_precision(2)\n",
      "/home/fatemeh/PycharmProjects/IDPs_and_NDDs/src/venv/lib/python3.10/site-packages/dataframe_image/_pandas_accessor.py:69: FutureWarning: this method is deprecated in favour of `Styler.to_html()`\n",
      "  html = '<div>' + obj.render() + '</div>'\n",
      "[0926/101706.959848:WARNING:sandbox_linux.cc(376)] InitializeSandbox() called with multiple threads in process gpu-process.\n",
      "[0926/101707.011785:WARNING:bluez_dbus_manager.cc(247)] Floss manager not present, cannot set Floss enable/disable.\n",
      "[0926/101707.294902:INFO:headless_shell.cc(660)] Written to file /tmp/tmp02k8ztrp/temp.png.\n"
     ]
    }
   ],
   "source": [
    "\n",
    "intersect_t = phens_intersect_df_maker(phens_acc_dict).style.background_gradient(cmap=cm).set_precision(2)\n",
    "dfi.export(intersect_t, 'intersect-count-all.png')"
   ]
  },
  {
   "cell_type": "code",
   "execution_count": null,
   "id": "bbaa3fbb-0cf9-4a62-8b78-9ed3b8f3048a",
   "metadata": {},
   "outputs": [],
   "source": []
  },
  {
   "cell_type": "code",
   "execution_count": null,
   "id": "a6ac7977-7acb-43a9-8573-a96fc7c568eb",
   "metadata": {},
   "outputs": [],
   "source": []
  },
  {
   "cell_type": "code",
   "execution_count": null,
   "id": "4ea14cf9-215d-422f-a4ff-8001242a00a1",
   "metadata": {},
   "outputs": [],
   "source": []
  }
 ],
 "metadata": {
  "kernelspec": {
   "display_name": "Python 3 (ipykernel)",
   "language": "python",
   "name": "python3"
  },
  "language_info": {
   "codemirror_mode": {
    "name": "ipython",
    "version": 3
   },
   "file_extension": ".py",
   "mimetype": "text/x-python",
   "name": "python",
   "nbconvert_exporter": "python",
   "pygments_lexer": "ipython3",
   "version": "3.10.4"
  }
 },
 "nbformat": 4,
 "nbformat_minor": 5
}
